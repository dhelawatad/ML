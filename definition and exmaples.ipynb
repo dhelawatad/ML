{
  "nbformat": 4,
  "nbformat_minor": 0,
  "metadata": {
    "colab": {
      "name": "Untitled25.ipynb",
      "version": "0.3.2",
      "provenance": [],
      "include_colab_link": true
    },
    "kernelspec": {
      "name": "python3",
      "display_name": "Python 3"
    }
  },
  "cells": [
    {
      "cell_type": "markdown",
      "metadata": {
        "id": "view-in-github",
        "colab_type": "text"
      },
      "source": [
        "<a href=\"https://colab.research.google.com/github/dhelawatad/ML/blob/master/definition%20and%20exmaples.ipynb\" target=\"_parent\"><img src=\"https://colab.research.google.com/assets/colab-badge.svg\" alt=\"Open In Colab\"/></a>"
      ]
    },
    {
      "cell_type": "code",
      "metadata": {
        "id": "PhqpFdVShqro",
        "colab_type": "code",
        "colab": {}
      },
      "source": [
        "from nltk.corpus import wordnet\n",
        "import time"
      ],
      "execution_count": 0,
      "outputs": []
    },
    {
      "cell_type": "code",
      "metadata": {
        "id": "TRzfrYJuh0Eo",
        "colab_type": "code",
        "colab": {}
      },
      "source": [
        "ws=wordnet.synsets('work')  # lemma word passs"
      ],
      "execution_count": 0,
      "outputs": []
    },
    {
      "cell_type": "code",
      "metadata": {
        "id": "zKK7Ogbsh7z2",
        "colab_type": "code",
        "outputId": "831bf2ee-d2d0-40cd-f8a3-ccc0a218079a",
        "colab": {
          "base_uri": "https://localhost:8080/",
          "height": 35
        }
      },
      "source": [
        "len(ws)"
      ],
      "execution_count": 0,
      "outputs": [
        {
          "output_type": "execute_result",
          "data": {
            "text/plain": [
              "34"
            ]
          },
          "metadata": {
            "tags": []
          },
          "execution_count": 12
        }
      ]
    },
    {
      "cell_type": "code",
      "metadata": {
        "id": "xegoz2ECh9nz",
        "colab_type": "code",
        "outputId": "8b88f75c-0f99-47ae-a47a-0a4d0029b1df",
        "colab": {
          "base_uri": "https://localhost:8080/",
          "height": 35
        }
      },
      "source": [
        "ws[0].definition()"
      ],
      "execution_count": 0,
      "outputs": [
        {
          "output_type": "execute_result",
          "data": {
            "text/plain": [
              "'activity directed toward making or doing something'"
            ]
          },
          "metadata": {
            "tags": []
          },
          "execution_count": 13
        }
      ]
    },
    {
      "cell_type": "code",
      "metadata": {
        "id": "9Ua8yjgEiBsj",
        "colab_type": "code",
        "outputId": "7b2887ae-3a86-4444-fbbe-03d59e76db3c",
        "colab": {
          "base_uri": "https://localhost:8080/",
          "height": 35
        }
      },
      "source": [
        "ws[1].definition()"
      ],
      "execution_count": 0,
      "outputs": [
        {
          "output_type": "execute_result",
          "data": {
            "text/plain": [
              "'a product produced or accomplished through the effort or activity or agency of a person or thing'"
            ]
          },
          "metadata": {
            "tags": []
          },
          "execution_count": 14
        }
      ]
    },
    {
      "cell_type": "code",
      "metadata": {
        "id": "O4BrpRsoiMjg",
        "colab_type": "code",
        "outputId": "d6a004aa-497e-4fb7-df1a-eebe47719113",
        "colab": {
          "base_uri": "https://localhost:8080/",
          "height": 35
        }
      },
      "source": [
        "ws[0].examples"
      ],
      "execution_count": 0,
      "outputs": [
        {
          "output_type": "execute_result",
          "data": {
            "text/plain": [
              "<bound method Synset.examples of Synset('work.n.01')>"
            ]
          },
          "metadata": {
            "tags": []
          },
          "execution_count": 15
        }
      ]
    },
    {
      "cell_type": "code",
      "metadata": {
        "id": "PP0w_bcKiOvy",
        "colab_type": "code",
        "outputId": "ad153a3b-74b9-4064-b2f3-1c8e3524ed21",
        "colab": {
          "base_uri": "https://localhost:8080/",
          "height": 104
        }
      },
      "source": [
        "ws[1].examples()"
      ],
      "execution_count": 0,
      "outputs": [
        {
          "output_type": "execute_result",
          "data": {
            "text/plain": [
              "['it is not regarded as one of his more memorable works',\n",
              " 'the symphony was hailed as an ingenious work',\n",
              " 'he was indebted to the pioneering work of John Dewey',\n",
              " 'the work of an active imagination',\n",
              " 'erosion is the work of wind or water over time']"
            ]
          },
          "metadata": {
            "tags": []
          },
          "execution_count": 16
        }
      ]
    },
    {
      "cell_type": "code",
      "metadata": {
        "id": "gN4VorGjiW9O",
        "colab_type": "code",
        "colab": {}
      },
      "source": [
        "# exploring all the book \n",
        "msg=input(\"enter your key word you want to look upon\")\n",
        "for i in wordnet.synsets(msg):\n",
        "  print(\"________________\")\n",
        "  print(i.definition())\n",
        "  print(\"_____________\")\n",
        "  print(i.exmaples())\n",
        "  time.sleep(10)"
      ],
      "execution_count": 0,
      "outputs": []
    }
  ]
}