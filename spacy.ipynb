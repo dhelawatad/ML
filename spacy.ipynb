{
  "nbformat": 4,
  "nbformat_minor": 0,
  "metadata": {
    "colab": {
      "name": "Untitled",
      "version": "0.3.2",
      "provenance": [],
      "include_colab_link": true
    },
    "kernelspec": {
      "name": "python3",
      "display_name": "Python 3"
    }
  },
  "cells": [
    {
      "cell_type": "markdown",
      "metadata": {
        "id": "view-in-github",
        "colab_type": "text"
      },
      "source": [
        "<a href=\"https://colab.research.google.com/github/dhelawatad/ML/blob/master/spacy.ipynb\" target=\"_parent\"><img src=\"https://colab.research.google.com/assets/colab-badge.svg\" alt=\"Open In Colab\"/></a>"
      ]
    },
    {
      "cell_type": "code",
      "metadata": {
        "id": "zrS9nRdaebwu",
        "colab_type": "code",
        "colab": {}
      },
      "source": [
        "import spacy"
      ],
      "execution_count": 0,
      "outputs": []
    },
    {
      "cell_type": "code",
      "metadata": {
        "id": "c0bJb99veey1",
        "colab_type": "code",
        "colab": {}
      },
      "source": [
        "#language en --\n",
        "nlp=spacy.load('en')"
      ],
      "execution_count": 0,
      "outputs": []
    },
    {
      "cell_type": "code",
      "metadata": {
        "id": "Qs0hFz0BemqO",
        "colab_type": "code",
        "colab": {}
      },
      "source": [
        "data='hello world i am going out side for playing cricket'"
      ],
      "execution_count": 0,
      "outputs": []
    },
    {
      "cell_type": "code",
      "metadata": {
        "id": "77LkfIKDfZZb",
        "colab_type": "code",
        "colab": {}
      },
      "source": [
        "new_data=nlp(data)  # automatic tokenize"
      ],
      "execution_count": 0,
      "outputs": []
    },
    {
      "cell_type": "code",
      "metadata": {
        "id": "6MlMJfR9fhcO",
        "colab_type": "code",
        "outputId": "51bd7ab6-95ca-400c-c2a2-57aa43ecf225",
        "colab": {
          "base_uri": "https://localhost:8080/",
          "height": 537
        }
      },
      "source": [
        "for i in new_data:\n",
        "  print(i,\"lemmatization of word is ..>\",i.lemma_)\n",
        "  print(\"#####################\")\n",
        "  print(i,\"POS\",i.pos)"
      ],
      "execution_count": 0,
      "outputs": [
        {
          "output_type": "stream",
          "text": [
            "hello lemmatization of word is ..> hello\n",
            "#####################\n",
            "hello POS 91\n",
            "world lemmatization of word is ..> world\n",
            "#####################\n",
            "world POS 92\n",
            "i lemmatization of word is ..> i\n",
            "#####################\n",
            "i POS 95\n",
            "am lemmatization of word is ..> be\n",
            "#####################\n",
            "am POS 100\n",
            "going lemmatization of word is ..> go\n",
            "#####################\n",
            "going POS 100\n",
            "out lemmatization of word is ..> out\n",
            "#####################\n",
            "out POS 94\n",
            "side lemmatization of word is ..> side\n",
            "#####################\n",
            "side POS 92\n",
            "for lemmatization of word is ..> for\n",
            "#####################\n",
            "for POS 85\n",
            "playing lemmatization of word is ..> play\n",
            "#####################\n",
            "playing POS 100\n",
            "cricket lemmatization of word is ..> cricket\n",
            "#####################\n",
            "cricket POS 92\n"
          ],
          "name": "stdout"
        }
      ]
    },
    {
      "cell_type": "code",
      "metadata": {
        "id": "EtL0WWS4frRQ",
        "colab_type": "code",
        "colab": {}
      },
      "source": [
        ""
      ],
      "execution_count": 0,
      "outputs": []
    }
  ]
}