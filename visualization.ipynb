{
  "nbformat": 4,
  "nbformat_minor": 0,
  "metadata": {
    "colab": {
      "name": "Untitled",
      "version": "0.3.2",
      "provenance": [],
      "include_colab_link": true
    },
    "kernelspec": {
      "name": "python3",
      "display_name": "Python 3"
    }
  },
  "cells": [
    {
      "cell_type": "markdown",
      "metadata": {
        "id": "view-in-github",
        "colab_type": "text"
      },
      "source": [
        "<a href=\"https://colab.research.google.com/github/dhelawatad/ML/blob/master/visualization.ipynb\" target=\"_parent\"><img src=\"https://colab.research.google.com/assets/colab-badge.svg\" alt=\"Open In Colab\"/></a>"
      ]
    },
    {
      "cell_type": "code",
      "metadata": {
        "id": "WoDxYwslK71J",
        "colab_type": "code",
        "colab": {}
      },
      "source": [
        "from sklearn.datasets import load_digits"
      ],
      "execution_count": 0,
      "outputs": []
    },
    {
      "cell_type": "code",
      "metadata": {
        "id": "_QDnFcxGMZCQ",
        "colab_type": "code",
        "colab": {}
      },
      "source": [
        "# loading digit data\n",
        "digit=load_digits()"
      ],
      "execution_count": 0,
      "outputs": []
    },
    {
      "cell_type": "code",
      "metadata": {
        "id": "9s07iuGHMggv",
        "colab_type": "code",
        "outputId": "abce39bc-d72d-4d4c-9c8b-fe73cc5091cb",
        "colab": {
          "base_uri": "https://localhost:8080/",
          "height": 34
        }
      },
      "source": [
        "#desc\n",
        "dir(digit)"
      ],
      "execution_count": 0,
      "outputs": [
        {
          "output_type": "execute_result",
          "data": {
            "text/plain": [
              "['DESCR', 'data', 'images', 'target', 'target_names']"
            ]
          },
          "metadata": {
            "tags": []
          },
          "execution_count": 3
        }
      ]
    },
    {
      "cell_type": "code",
      "metadata": {
        "id": "j8l5cdN-MkNx",
        "colab_type": "code",
        "colab": {}
      },
      "source": [
        "#features\n",
        "features=digit.data\n"
      ],
      "execution_count": 0,
      "outputs": []
    },
    {
      "cell_type": "code",
      "metadata": {
        "id": "GvAgNadgMp9Z",
        "colab_type": "code",
        "colab": {}
      },
      "source": [
        "# label\n",
        "label=digit.target"
      ],
      "execution_count": 0,
      "outputs": []
    },
    {
      "cell_type": "code",
      "metadata": {
        "id": "diWNWe-wMtzM",
        "colab_type": "code",
        "colab": {}
      },
      "source": [
        "#training and testing\n",
        "from sklearn.model_selection import train_test_split\n",
        "X,x,Y,y=train_test_split(features,label,test_size=0.2)"
      ],
      "execution_count": 0,
      "outputs": []
    },
    {
      "cell_type": "code",
      "metadata": {
        "id": "oq0PnmPrNQSk",
        "colab_type": "code",
        "outputId": "730ff020-d392-47e2-8124-c2a1326de0a7",
        "colab": {
          "base_uri": "https://localhost:8080/",
          "height": 286
        }
      },
      "source": [
        "# visualization data\n",
        "import matplotlib.pyplot as plt\n",
        "plt.imshow(digit.images[0])"
      ],
      "execution_count": 0,
      "outputs": [
        {
          "output_type": "execute_result",
          "data": {
            "text/plain": [
              "<matplotlib.image.AxesImage at 0x7fca91064358>"
            ]
          },
          "metadata": {
            "tags": []
          },
          "execution_count": 23
        },
        {
          "output_type": "display_data",
          "data": {
            "image/png": "[encoded data removed]",
            "text/plain": [
              "<Figure size 432x288 with 1 Axes>"
            ]
          },
          "metadata": {
            "tags": []
          }
        }
      ]
    },
    {
      "cell_type": "code",
      "metadata": {
        "id": "Q7DfCFxgNzOw",
        "colab_type": "code",
        "colab": {}
      },
      "source": [
        "#low calling support vector classifier\n",
        "from sklearn.svm import SVC"
      ],
      "execution_count": 0,
      "outputs": []
    },
    {
      "cell_type": "code",
      "metadata": {
        "id": "zyaZG4HIOAc8",
        "colab_type": "code",
        "colab": {}
      },
      "source": [
        "#calling clf\n",
        "clf=SVC()"
      ],
      "execution_count": 0,
      "outputs": []
    },
    {
      "cell_type": "code",
      "metadata": {
        "id": "B0187RylO8rS",
        "colab_type": "code",
        "outputId": "fbfa271b-5f30-4561-d8f5-9d31a88f001e",
        "colab": {
          "base_uri": "https://localhost:8080/",
          "height": 71
        }
      },
      "source": [
        "\n",
        "# now training my clf\n",
        "trained=clf.fit(X,Y)"
      ],
      "execution_count": 0,
      "outputs": [
        {
          "output_type": "stream",
          "text": [
            "/usr/local/lib/python3.6/dist-packages/sklearn/svm/base.py:193: FutureWarning: The default value of gamma will change from 'auto' to 'scale' in version 0.22 to account better for unscaled features. Set gamma explicitly to 'auto' or 'scale' to avoid this warning.\n",
            "  \"avoid this warning.\", FutureWarning)\n"
          ],
          "name": "stderr"
        }
      ]
    },
    {
      "cell_type": "code",
      "metadata": {
        "id": "0bT5qfLKPKd0",
        "colab_type": "code",
        "colab": {}
      },
      "source": [
        "output=trained.predict(x\n",
        "                     \n",
        "                      )"
      ],
      "execution_count": 0,
      "outputs": []
    },
    {
      "cell_type": "code",
      "metadata": {
        "id": "84fQvDP_PvLP",
        "colab_type": "code",
        "outputId": "e605ec97-b339-4bc6-b082-c1625890cbd0",
        "colab": {
          "base_uri": "https://localhost:8080/",
          "height": 306
        }
      },
      "source": [
        "output"
      ],
      "execution_count": 0,
      "outputs": [
        {
          "output_type": "execute_result",
          "data": {
            "text/plain": [
              "array([5, 6, 5, 5, 5, 6, 5, 0, 5, 5, 5, 5, 5, 5, 5, 5, 5, 8, 5, 5, 5, 5,\n",
              "       5, 7, 5, 5, 5, 2, 5, 5, 4, 5, 5, 5, 5, 7, 5, 5, 0, 5, 5, 9, 5, 5,\n",
              "       5, 0, 7, 5, 4, 5, 6, 5, 0, 5, 5, 5, 5, 5, 5, 1, 5, 5, 5, 5, 4, 5,\n",
              "       5, 5, 5, 5, 5, 5, 5, 5, 5, 5, 4, 5, 5, 5, 5, 5, 5, 5, 5, 4, 2, 5,\n",
              "       5, 1, 5, 5, 5, 2, 9, 2, 5, 5, 6, 5, 5, 6, 5, 5, 5, 4, 5, 5, 5, 5,\n",
              "       5, 5, 5, 5, 6, 5, 5, 5, 5, 5, 6, 5, 5, 5, 5, 5, 1, 0, 1, 5, 5, 0,\n",
              "       4, 5, 5, 5, 5, 6, 5, 6, 5, 5, 0, 5, 5, 0, 1, 5, 5, 5, 5, 5, 5, 5,\n",
              "       3, 6, 5, 5, 5, 5, 5, 5, 5, 5, 5, 5, 9, 5, 5, 2, 5, 5, 5, 5, 5, 2,\n",
              "       5, 5, 5, 5, 5, 0, 5, 4, 5, 0, 0, 3, 5, 5, 5, 5, 5, 2, 5, 5, 5, 1,\n",
              "       5, 2, 5, 5, 5, 6, 5, 5, 5, 5, 5, 5, 5, 5, 5, 9, 5, 0, 5, 5, 5, 5,\n",
              "       5, 6, 5, 5, 6, 5, 0, 5, 5, 5, 5, 5, 5, 5, 5, 5, 5, 5, 5, 5, 7, 0,\n",
              "       5, 5, 0, 4, 0, 5, 5, 5, 5, 5, 5, 5, 5, 5, 4, 5, 5, 5, 5, 5, 9, 5,\n",
              "       6, 1, 5, 5, 5, 5, 7, 5, 4, 5, 5, 7, 0, 5, 5, 5, 5, 4, 0, 5, 5, 5,\n",
              "       5, 5, 2, 5, 5, 5, 5, 5, 5, 5, 5, 5, 5, 9, 5, 5, 0, 5, 5, 6, 5, 5,\n",
              "       5, 5, 4, 5, 5, 5, 5, 0, 5, 5, 7, 5, 4, 5, 4, 5, 0, 5, 5, 6, 5, 5,\n",
              "       3, 5, 5, 5, 5, 5, 5, 5, 5, 1, 5, 5, 5, 4, 1, 5, 5, 5, 5, 5, 5, 5,\n",
              "       5, 5, 5, 7, 4, 5, 5, 5])"
            ]
          },
          "metadata": {
            "tags": []
          },
          "execution_count": 39
        }
      ]
    },
    {
      "cell_type": "code",
      "metadata": {
        "id": "mD3fJJxJP4X0",
        "colab_type": "code",
        "colab": {}
      },
      "source": [
        "from sklearn.metrics import accuracy_score"
      ],
      "execution_count": 0,
      "outputs": []
    },
    {
      "cell_type": "code",
      "metadata": {
        "id": "YorQpMnHQDuf",
        "colab_type": "code",
        "outputId": "483e2fe0-bb66-4d8b-e6ba-5569e88e7aea",
        "colab": {
          "base_uri": "https://localhost:8080/",
          "height": 34
        }
      },
      "source": [
        "\n",
        "accuracy_score(output,y)"
      ],
      "execution_count": 0,
      "outputs": [
        {
          "output_type": "execute_result",
          "data": {
            "text/plain": [
              "0.3194444444444444"
            ]
          },
          "metadata": {
            "tags": []
          },
          "execution_count": 41
        }
      ]
    },
    {
      "cell_type": "code",
      "metadata": {
        "id": "xld8OttqQJLR",
        "colab_type": "code",
        "colab": {}
      },
      "source": [
        "import smtplib"
      ],
      "execution_count": 0,
      "outputs": []
    },
    {
      "cell_type": "code",
      "metadata": {
        "id": "7ER7BkQIVGuW",
        "colab_type": "code",
        "outputId": "e7c6c57d-1c59-40a9-b0b1-7a93b17fb0e8",
        "colab": {
          "base_uri": "https://localhost:8080/",
          "height": 799
        }
      },
      "source": [
        "dir(smtplib)"
      ],
      "execution_count": 0,
      "outputs": [
        {
          "output_type": "execute_result",
          "data": {
            "text/plain": [
              "['CRLF',\n",
              " 'LMTP',\n",
              " 'LMTP_PORT',\n",
              " 'OLDSTYLE_AUTH',\n",
              " 'SMTP',\n",
              " 'SMTPAuthenticationError',\n",
              " 'SMTPConnectError',\n",
              " 'SMTPDataError',\n",
              " 'SMTPException',\n",
              " 'SMTPHeloError',\n",
              " 'SMTPNotSupportedError',\n",
              " 'SMTPRecipientsRefused',\n",
              " 'SMTPResponseException',\n",
              " 'SMTPSenderRefused',\n",
              " 'SMTPServerDisconnected',\n",
              " 'SMTP_PORT',\n",
              " 'SMTP_SSL',\n",
              " 'SMTP_SSL_PORT',\n",
              " '_MAXLINE',\n",
              " '__all__',\n",
              " '__builtins__',\n",
              " '__cached__',\n",
              " '__doc__',\n",
              " '__file__',\n",
              " '__loader__',\n",
              " '__name__',\n",
              " '__package__',\n",
              " '__spec__',\n",
              " '_addr_only',\n",
              " '_fix_eols',\n",
              " '_have_ssl',\n",
              " '_quote_periods',\n",
              " 'bCRLF',\n",
              " 'base64',\n",
              " 'copy',\n",
              " 'datetime',\n",
              " 'email',\n",
              " 'encode_base64',\n",
              " 'hmac',\n",
              " 'io',\n",
              " 'quoteaddr',\n",
              " 'quotedata',\n",
              " 're',\n",
              " 'socket',\n",
              " 'ssl',\n",
              " 'sys']"
            ]
          },
          "metadata": {
            "tags": []
          },
          "execution_count": 43
        }
      ]
    },
    {
      "cell_type": "code",
      "metadata": {
        "id": "YvBlVZsjVI96",
        "colab_type": "code",
        "colab": {}
      },
      "source": [
        ""
      ],
      "execution_count": 0,
      "outputs": []
    }
  ]
}